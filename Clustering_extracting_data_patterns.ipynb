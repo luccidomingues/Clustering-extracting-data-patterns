{
  "nbformat": 4,
  "nbformat_minor": 0,
  "metadata": {
    "colab": {
      "name": "Clustering extracting data patterns.ipynb",
      "provenance": [],
      "authorship_tag": "ABX9TyMf0+XpeRDHkNE0iUW46uv6",
      "include_colab_link": true
    },
    "kernelspec": {
      "name": "python3",
      "display_name": "Python 3"
    },
    "language_info": {
      "name": "python"
    }
  },
  "cells": [
    {
      "cell_type": "markdown",
      "metadata": {
        "id": "view-in-github",
        "colab_type": "text"
      },
      "source": [
        "<a href=\"https://colab.research.google.com/github/luccidomingues/Clustering-extracting-data-patterns/blob/main/Clustering_extracting_data_patterns.ipynb\" target=\"_parent\"><img src=\"https://colab.research.google.com/assets/colab-badge.svg\" alt=\"Open In Colab\"/></a>"
      ]
    },
    {
      "cell_type": "code",
      "execution_count": null,
      "metadata": {
        "id": "b5aztFv4YpzD"
      },
      "outputs": [],
      "source": [
        "import pandas as pd\n",
        "\n",
        "dataframe = pd.read_csv(\"CC GENERAL.csv\")\n",
        "dataframe.drop(columns=[\"CUST_ID\", \"TENURE\"], inplace=True)\n",
        "dataframe.head()    \n"
      ]
    },
    {
      "cell_type": "code",
      "source": [
        "\n",
        "missing = dataframe.isna().sum()\n",
        "print(missing)"
      ],
      "metadata": {
        "id": "MPrICnA7Y3rw"
      },
      "execution_count": null,
      "outputs": []
    },
    {
      "cell_type": "code",
      "source": [
        "dataframe.fillna(dataframe.median(), inplace=True)\n",
        "missing = dataframe.isna().sum()\n",
        "print(missing)"
      ],
      "metadata": {
        "id": "xP5ygtvgY35Z"
      },
      "execution_count": null,
      "outputs": []
    },
    {
      "cell_type": "code",
      "source": [
        "from sklearn.preprocessing import Normalizer\n",
        "values = Normalizer().fit_transform(dataframe.values)\n",
        "print(values)\n"
      ],
      "metadata": {
        "id": "ntRVmgKpY4FP"
      },
      "execution_count": null,
      "outputs": []
    },
    {
      "cell_type": "code",
      "source": [
        "from sklearn.cluster import KMeans\n",
        "kmeans = KMeans(n_clusters=5, n_init=10, max_iter=300)\n",
        "y_pred = kmeans.fit_predict(values)"
      ],
      "metadata": {
        "id": "Rc4MGwiBY4Qv"
      },
      "execution_count": null,
      "outputs": []
    }
  ]
}